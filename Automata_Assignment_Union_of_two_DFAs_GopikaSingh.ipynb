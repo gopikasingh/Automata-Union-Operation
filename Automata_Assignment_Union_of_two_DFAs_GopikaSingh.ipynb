{
  "nbformat": 4,
  "nbformat_minor": 0,
  "metadata": {
    "colab": {
      "name": "Automata_Assignment_Union_of_two_DFAs.ipynb",
      "provenance": [],
      "collapsed_sections": [],
      "include_colab_link": true
    },
    "kernelspec": {
      "name": "python3",
      "display_name": "Python 3"
    },
    "language_info": {
      "name": "python"
    }
  },
  "cells": [
    {
      "cell_type": "markdown",
      "metadata": {
        "id": "view-in-github",
        "colab_type": "text"
      },
      "source": [
        "<a href=\"https://colab.research.google.com/github/gopikasingh/Automata-Union-Operation/blob/main/Automata_Assignment_Union_of_two_DFAs_GopikaSingh.ipynb\" target=\"_parent\"><img src=\"https://colab.research.google.com/assets/colab-badge.svg\" alt=\"Open In Colab\"/></a>"
      ]
    },
    {
      "cell_type": "markdown",
      "metadata": {
        "id": "plhC7XaTkoGT"
      },
      "source": [
        "#**Combining two DFAs by Union operation**"
      ]
    },
    {
      "cell_type": "code",
      "metadata": {
        "id": "SdDMQ5xins6E",
        "colab": {
          "base_uri": "https://localhost:8080/"
        },
        "outputId": "f7af008d-c204-470f-8030-e5d7d6e0789e"
      },
      "source": [
        "!pip install automata-lib\n",
        "!pip install orderedset\n",
        "!pip install pysimpleautomata\n",
        "!pip install graphviz"
      ],
      "execution_count": 16,
      "outputs": [
        {
          "output_type": "stream",
          "name": "stdout",
          "text": [
            "Requirement already satisfied: automata-lib in /usr/local/lib/python3.7/dist-packages (5.0.0)\n",
            "Requirement already satisfied: pydot in /usr/local/lib/python3.7/dist-packages (from automata-lib) (1.3.0)\n",
            "Requirement already satisfied: pyparsing>=2.1.4 in /usr/local/lib/python3.7/dist-packages (from pydot->automata-lib) (3.0.6)\n",
            "Requirement already satisfied: orderedset in /usr/local/lib/python3.7/dist-packages (2.0.3)\n",
            "Requirement already satisfied: pysimpleautomata in /usr/local/lib/python3.7/dist-packages (0.5.0)\n",
            "Requirement already satisfied: pydot in /usr/local/lib/python3.7/dist-packages (from pysimpleautomata) (1.3.0)\n",
            "Requirement already satisfied: graphviz in /usr/local/lib/python3.7/dist-packages (from pysimpleautomata) (0.10.1)\n",
            "Requirement already satisfied: pyparsing>=2.1.4 in /usr/local/lib/python3.7/dist-packages (from pydot->pysimpleautomata) (3.0.6)\n",
            "Requirement already satisfied: graphviz in /usr/local/lib/python3.7/dist-packages (0.10.1)\n"
          ]
        }
      ]
    },
    {
      "cell_type": "code",
      "metadata": {
        "id": "lYBMyGwsosrM"
      },
      "source": [
        "from automata.base.automaton import Automaton"
      ],
      "execution_count": 2,
      "outputs": []
    },
    {
      "cell_type": "code",
      "metadata": {
        "id": "gZS9eXcGybLV"
      },
      "source": [
        "from automata.fa.fa import FA"
      ],
      "execution_count": 3,
      "outputs": []
    },
    {
      "cell_type": "code",
      "metadata": {
        "id": "ww-MO3dktNy-"
      },
      "source": [
        "from orderedset import OrderedSet"
      ],
      "execution_count": 4,
      "outputs": []
    },
    {
      "cell_type": "code",
      "metadata": {
        "id": "smmFHJwpX2hX"
      },
      "source": [
        "from PySimpleAutomata import automata_IO"
      ],
      "execution_count": 24,
      "outputs": []
    },
    {
      "cell_type": "markdown",
      "metadata": {
        "id": "QrzmfoxNkioy"
      },
      "source": [
        "#**Creating the 1st DFA**"
      ]
    },
    {
      "cell_type": "code",
      "metadata": {
        "colab": {
          "base_uri": "https://localhost:8080/"
        },
        "id": "KwTMKao9boD8",
        "outputId": "d6ee2b31-7ac5-4b84-f8c7-5a6af4897479"
      },
      "source": [
        "print(\"For 1st DFA ->\\n\\nEnter the states seperated by a comma(and without space): \",end=\"\")\n",
        "x = OrderedSet(input().split(','))\n",
        "print(\"\\nEnter the input alphabets for the first DFA : \",end=\"\")\n",
        "inp = OrderedSet(input().split(','))"
      ],
      "execution_count": 5,
      "outputs": [
        {
          "name": "stdout",
          "output_type": "stream",
          "text": [
            "For 1st DFA ->\n",
            "\n",
            "Enter the states seperated by a comma(and without space): q0,q1,q2\n",
            "\n",
            "Enter the input alphabets for the first DFA : 0,1\n"
          ]
        }
      ]
    },
    {
      "cell_type": "code",
      "metadata": {
        "colab": {
          "base_uri": "https://localhost:8080/"
        },
        "id": "XYv-zG7ug7fg",
        "outputId": "ddf8b2da-1dc0-4573-f851-d6460f06ff3f"
      },
      "source": [
        "print(x,inp)"
      ],
      "execution_count": null,
      "outputs": [
        {
          "output_type": "stream",
          "name": "stdout",
          "text": [
            "OrderedSet(['q0', 'q1', 'q2']) OrderedSet(['0', '1'])\n"
          ]
        }
      ]
    },
    {
      "cell_type": "code",
      "metadata": {
        "colab": {
          "base_uri": "https://localhost:8080/"
        },
        "id": "m9Mva2mhcH_-",
        "outputId": "00e66d62-ad7a-48ef-84fa-a714ce0b8702"
      },
      "source": [
        "dictt = {}\n",
        "zero = 1\n",
        "for i in x:\n",
        "  print(\"The transition\",zero)\n",
        "  temp = {}\n",
        "  for j in inp:\n",
        "    print(\"for the state\",i,\"and input alphabet\",j,\"= \",end=\"\")\n",
        "    state1 = input()\n",
        "    temp[j]=state1\n",
        "  zero+=1\n",
        "  dictt[i] = temp\n",
        "  print(\"\\n\")\n",
        "\n",
        "print(\"\\n\",dictt,\"\\n\")\n"
      ],
      "execution_count": 6,
      "outputs": [
        {
          "output_type": "stream",
          "name": "stdout",
          "text": [
            "The transition 1\n",
            "for the state q0 and input alphabet 0 = q0\n",
            "for the state q0 and input alphabet 1 = q1\n",
            "\n",
            "\n",
            "The transition 2\n",
            "for the state q1 and input alphabet 0 = q0\n",
            "for the state q1 and input alphabet 1 = q2\n",
            "\n",
            "\n",
            "The transition 3\n",
            "for the state q2 and input alphabet 0 = q2\n",
            "for the state q2 and input alphabet 1 = q1\n",
            "\n",
            "\n",
            "\n",
            " {'q0': {'0': 'q0', '1': 'q1'}, 'q1': {'0': 'q0', '1': 'q2'}, 'q2': {'0': 'q2', '1': 'q1'}} \n",
            "\n"
          ]
        }
      ]
    },
    {
      "cell_type": "code",
      "metadata": {
        "id": "vIl-LgvijoYv",
        "colab": {
          "base_uri": "https://localhost:8080/"
        },
        "outputId": "813ded7a-b6a1-4a2b-c00e-174ec23dcb78"
      },
      "source": [
        "print(\"Enter the initial state: \",end=\"\")\n",
        "ini = input()\n",
        "\n",
        "print(\"Enter the final states: \",end=\"\")\n",
        "fin = set(input().split(','))\n"
      ],
      "execution_count": 32,
      "outputs": [
        {
          "name": "stdout",
          "output_type": "stream",
          "text": [
            "Enter the initial state: q0\n",
            "Enter the final states: q1\n"
          ]
        }
      ]
    },
    {
      "cell_type": "code",
      "metadata": {
        "id": "usU1Y5XoyfAR"
      },
      "source": [
        "from automata.fa.dfa import DFA\n",
        "# DFA which matches all binary strings ending in an odd number of '1's\n",
        "dfa1 = DFA(\n",
        "    states=x,\n",
        "    input_symbols=inp,\n",
        "    transitions=dictt,\n",
        "    initial_state=ini,\n",
        "    final_states=fin\n",
        ")"
      ],
      "execution_count": 8,
      "outputs": []
    },
    {
      "cell_type": "code",
      "metadata": {
        "id": "viibmugRcqlK"
      },
      "source": [
        "dfa_example = {\n",
        "    'alphabet': {'5c', '10c', 'gum'},\n",
        "    'states': {'s1', 's0', 's2', 's3'},\n",
        "    'initial_state': 's0',\n",
        "    'accepting_states': {'s0'},\n",
        "    'transitions': {\n",
        "        ('s1', '5c'): 's2',\n",
        "        ('s0', '5c'): 's1',\n",
        "        ('s2', '10c'): 's3',\n",
        "        ('s3', 'gum'): 's0',\n",
        "        ('s2', '5c'): 's3',\n",
        "        ('s0', '10c'): 's2',\n",
        "        ('s1', '10c'): 's3'\n",
        "    }\n",
        "}"
      ],
      "execution_count": null,
      "outputs": []
    },
    {
      "cell_type": "code",
      "metadata": {
        "id": "rV-4FN0RYOHn"
      },
      "source": [
        "dfa_example = {\n",
        "    'alphabet': inp,\n",
        "    'states': x,\n",
        "    'initial_state': ini,\n",
        "    'accepting_states': fin,\n",
        "    'transitions': {\n",
        "        ('q0', '0'): 'q0',\n",
        "        ('q0', '1'): 'q1',\n",
        "        ('q1', '0'): 'q0',\n",
        "        ('q1', '1'): 'q2',\n",
        "        ('q2', '0'): 'q2',\n",
        "        ('q2', '1'): 'q1'\n",
        "    }\n",
        "}"
      ],
      "execution_count": 58,
      "outputs": []
    },
    {
      "cell_type": "code",
      "metadata": {
        "id": "1schJ_7_aqhg"
      },
      "source": [
        "automata_IO.dfa_to_dot(dfa_example, 'dfa')"
      ],
      "execution_count": 59,
      "outputs": []
    },
    {
      "cell_type": "markdown",
      "metadata": {
        "id": "3tXyWI-nk6XB"
      },
      "source": [
        "#**Creating the 2nd DFA**"
      ]
    },
    {
      "cell_type": "code",
      "metadata": {
        "colab": {
          "base_uri": "https://localhost:8080/"
        },
        "id": "_uiI0YMLlC_z",
        "outputId": "d3358fbe-b515-4952-943c-b97339a597d3"
      },
      "source": [
        "print(\"For 2nd DFA ->\\n\\nEnter the states seperated by a comma(and without space): \",end=\"\")\n",
        "x1 = OrderedSet(input().split(','))\n",
        "print(\"\\nEnter the input alphabets for the first DFA : \",end=\"\")\n",
        "inp1 = OrderedSet(input().split(','))"
      ],
      "execution_count": 35,
      "outputs": [
        {
          "name": "stdout",
          "output_type": "stream",
          "text": [
            "For 2nd DFA ->\n",
            "\n",
            "Enter the states seperated by a comma(and without space): q00,q11,q22,q33\n",
            "\n",
            "Enter the input alphabets for the first DFA : 0,1\n"
          ]
        }
      ]
    },
    {
      "cell_type": "code",
      "metadata": {
        "id": "mxXLKSC9lP2B",
        "colab": {
          "base_uri": "https://localhost:8080/"
        },
        "outputId": "b56aeb7e-b7a9-48c6-ce8f-74167848407b"
      },
      "source": [
        "dictt1 = {}\n",
        "zero1 = 1\n",
        "for ii in x1:\n",
        "  print(\"The transition\",zero1)\n",
        "  temp1 = {}\n",
        "  for jj in inp1:\n",
        "    print(\"for the state\",ii,\"and input alphabet\",jj,\"= \",end=\"\")\n",
        "    state1 = input()\n",
        "    temp1[jj]=state1\n",
        "  zero1+=1\n",
        "  dictt1[ii] = temp1\n",
        "  print(\"\\n\")\n",
        "print(\"\\n\",dictt1,\"\\n\")\n"
      ],
      "execution_count": 36,
      "outputs": [
        {
          "output_type": "stream",
          "name": "stdout",
          "text": [
            "The transition 1\n",
            "for the state q00 and input alphabet 0 = q11\n",
            "for the state q00 and input alphabet 1 = q33\n",
            "\n",
            "\n",
            "The transition 2\n",
            "for the state q11 and input alphabet 0 = q33\n",
            "for the state q11 and input alphabet 1 = q22\n",
            "\n",
            "\n",
            "The transition 3\n",
            "for the state q22 and input alphabet 0 = q22\n",
            "for the state q22 and input alphabet 1 = q22\n",
            "\n",
            "\n",
            "The transition 4\n",
            "for the state q33 and input alphabet 0 = q33\n",
            "for the state q33 and input alphabet 1 = q33\n",
            "\n",
            "\n",
            "\n",
            " {'q00': {'0': 'q11', '1': 'q33'}, 'q11': {'0': 'q33', '1': 'q22'}, 'q22': {'0': 'q22', '1': 'q22'}, 'q33': {'0': 'q33', '1': 'q33'}} \n",
            "\n"
          ]
        }
      ]
    },
    {
      "cell_type": "code",
      "metadata": {
        "id": "xodjYyZnlW_u",
        "colab": {
          "base_uri": "https://localhost:8080/"
        },
        "outputId": "5791b3db-800e-4b0a-db57-a2a0d45622f6"
      },
      "source": [
        "\n",
        "print(\"Enter the initial state: \",end=\"\")\n",
        "ini1 = input()\n",
        "\n",
        "print(\"Enter the final states: \",end=\"\")\n",
        "fin1 = OrderedSet(input().split(','))"
      ],
      "execution_count": 37,
      "outputs": [
        {
          "name": "stdout",
          "output_type": "stream",
          "text": [
            "Enter the initial state: q00\n",
            "Enter the final states: q22\n"
          ]
        }
      ]
    },
    {
      "cell_type": "code",
      "metadata": {
        "id": "EDeUqvuxXfta"
      },
      "source": [
        "other_dfa = DFA(\n",
        "    states=x1,\n",
        "    input_symbols=inp1,\n",
        "    transitions=dictt1,\n",
        "    initial_state=ini1,\n",
        "    final_states=fin1\n",
        ")"
      ],
      "execution_count": 38,
      "outputs": []
    },
    {
      "cell_type": "code",
      "metadata": {
        "id": "HT_oBu7MQnLk"
      },
      "source": [
        "dfa_example2 = {\n",
        "    'alphabet': inp1,\n",
        "    'states': x1,\n",
        "    'initial_state': ini1,\n",
        "    'accepting_states': fin1,\n",
        "    'transitions': {\n",
        "        ('q00', '0'): 'q11',\n",
        "        ('q00', '1'): 'q33',\n",
        "        ('q11', '0'): 'q33',\n",
        "        ('q11', '1'): 'q22',\n",
        "        ('q22', '0'): 'q22',\n",
        "        ('q22', '1'): 'q22',\n",
        "        ('q33', '0'): 'q33',\n",
        "        ('q33', '1'): 'q33'\n",
        "    }\n",
        "}"
      ],
      "execution_count": 56,
      "outputs": []
    },
    {
      "cell_type": "code",
      "metadata": {
        "id": "8HUZ09_geqGQ"
      },
      "source": [
        "automata_IO.dfa_to_dot(dfa_example2, 'dfa2')"
      ],
      "execution_count": 57,
      "outputs": []
    },
    {
      "cell_type": "markdown",
      "metadata": {
        "id": "zjhzDqjkniWq"
      },
      "source": [
        "#**Checking what strings do the DFAs accept**"
      ]
    },
    {
      "cell_type": "code",
      "metadata": {
        "id": "_EjmzOinpp_f",
        "colab": {
          "base_uri": "https://localhost:8080/"
        },
        "outputId": "453f2ed1-081b-4d5b-ad02-dba317f95236"
      },
      "source": [
        "print(\"Enter the input state: \",end=\"\")\n",
        "strr = input()"
      ],
      "execution_count": 42,
      "outputs": [
        {
          "name": "stdout",
          "output_type": "stream",
          "text": [
            "Enter the input state: 00101\n"
          ]
        }
      ]
    },
    {
      "cell_type": "code",
      "metadata": {
        "id": "zaRp1zYrzJrs",
        "colab": {
          "base_uri": "https://localhost:8080/"
        },
        "outputId": "4e563249-1b1d-4462-f1f8-d6d3b7150a22"
      },
      "source": [
        "#if dfa.accepts_input(my_input_str):\n",
        "\n",
        "if dfa1.accepts_input(strr):\n",
        "    print('DFA1 accepted the string',strr)\n",
        "else:\n",
        "    print('DFA1 rejected the string',strr)"
      ],
      "execution_count": 43,
      "outputs": [
        {
          "output_type": "stream",
          "name": "stdout",
          "text": [
            "DFA1 accepted the string 00101\n"
          ]
        }
      ]
    },
    {
      "cell_type": "code",
      "metadata": {
        "id": "3ahXDpUeqVGH",
        "colab": {
          "base_uri": "https://localhost:8080/"
        },
        "outputId": "7c48d376-6228-4684-ef22-3c9522fdb471"
      },
      "source": [
        "if other_dfa.accepts_input(strr):\n",
        "    print('DFA2 accepted the string',strr)\n",
        "else:\n",
        "    print('DFA2 rejected the string',strr)"
      ],
      "execution_count": 44,
      "outputs": [
        {
          "output_type": "stream",
          "name": "stdout",
          "text": [
            "DFA2 rejected the string 00101\n"
          ]
        }
      ]
    },
    {
      "cell_type": "code",
      "metadata": {
        "id": "ctlUI9fryyVI",
        "colab": {
          "base_uri": "https://localhost:8080/"
        },
        "outputId": "260bf1e3-d3af-4123-e1d4-efeedb871452"
      },
      "source": [
        "other_dfa.read_input_stepwise('0111')"
      ],
      "execution_count": 45,
      "outputs": [
        {
          "output_type": "execute_result",
          "data": {
            "text/plain": [
              "<generator object DFA.read_input_stepwise at 0x7f6a2c4c8dd0>"
            ]
          },
          "metadata": {},
          "execution_count": 45
        }
      ]
    },
    {
      "cell_type": "markdown",
      "metadata": {
        "id": "11wZtagkxWmo"
      },
      "source": [
        "#**Minimizing the DFAs**"
      ]
    },
    {
      "cell_type": "code",
      "metadata": {
        "id": "MYZzrWxkzied"
      },
      "source": [
        "dfa1 = dfa1.minify(retain_names=True)"
      ],
      "execution_count": 46,
      "outputs": []
    },
    {
      "cell_type": "code",
      "metadata": {
        "id": "WV2hL8vaxeNJ"
      },
      "source": [
        "other_dfa = other_dfa.minify(retain_names=True)"
      ],
      "execution_count": 47,
      "outputs": []
    },
    {
      "cell_type": "markdown",
      "metadata": {
        "id": "zPKEYoDjxpRz"
      },
      "source": [
        "#**Union Operation**"
      ]
    },
    {
      "cell_type": "code",
      "metadata": {
        "id": "lQqZDe2nzm7x"
      },
      "source": [
        "#minimal_union_dfa = dfa1 | other_dfa\n",
        "union_dfa = dfa1.union(other_dfa,minify=False)\n",
        "union_dfa = union_dfa.minify(retain_names=True)"
      ],
      "execution_count": 48,
      "outputs": []
    },
    {
      "cell_type": "code",
      "metadata": {
        "id": "oR_RNCK7dLtG",
        "colab": {
          "base_uri": "https://localhost:8080/"
        },
        "outputId": "76d46a15-08d0-4852-cf6f-b84237c2af7d"
      },
      "source": [
        "print(union_dfa.states)"
      ],
      "execution_count": 49,
      "outputs": [
        {
          "output_type": "stream",
          "name": "stdout",
          "text": [
            "{'{{q0,q2},q00}', '{{q0,q2},q11}', '{{q1,q22},{{q0,q2},q22}}', '{q1,q33}', '{{q0,q2},q33}'}\n"
          ]
        }
      ]
    },
    {
      "cell_type": "code",
      "metadata": {
        "id": "nWFgJz_ADjBj",
        "colab": {
          "base_uri": "https://localhost:8080/"
        },
        "outputId": "9343d123-1674-4710-8f09-cd62e7ec6d0e"
      },
      "source": [
        "print(union_dfa.input_symbols)"
      ],
      "execution_count": 50,
      "outputs": [
        {
          "output_type": "stream",
          "name": "stdout",
          "text": [
            "OrderedSet(['0', '1'])\n"
          ]
        }
      ]
    },
    {
      "cell_type": "code",
      "metadata": {
        "id": "V8r3XURHky7E",
        "colab": {
          "base_uri": "https://localhost:8080/"
        },
        "outputId": "79cbfe00-577c-441d-a238-0e7a93a2fc99"
      },
      "source": [
        "print(union_dfa.transitions)"
      ],
      "execution_count": 51,
      "outputs": [
        {
          "output_type": "stream",
          "name": "stdout",
          "text": [
            "{'{q1,q33}': {'0': '{{q0,q2},q33}', '1': '{{q0,q2},q33}'}, '{{q0,q2},q11}': {'0': '{{q0,q2},q33}', '1': '{{q1,q22},{{q0,q2},q22}}'}, '{{q1,q22},{{q0,q2},q22}}': {'0': '{{q1,q22},{{q0,q2},q22}}', '1': '{{q1,q22},{{q0,q2},q22}}'}, '{{q0,q2},q33}': {'0': '{{q0,q2},q33}', '1': '{q1,q33}'}, '{{q0,q2},q00}': {'0': '{{q0,q2},q11}', '1': '{q1,q33}'}}\n"
          ]
        }
      ]
    },
    {
      "cell_type": "code",
      "metadata": {
        "id": "q1qTrRL3kzt-",
        "colab": {
          "base_uri": "https://localhost:8080/"
        },
        "outputId": "5ec7a5fd-8e99-4272-f60e-8c76a4c2028c"
      },
      "source": [
        "print(union_dfa.initial_state)"
      ],
      "execution_count": 52,
      "outputs": [
        {
          "output_type": "stream",
          "name": "stdout",
          "text": [
            "{{q0,q2},q00}\n"
          ]
        }
      ]
    },
    {
      "cell_type": "code",
      "metadata": {
        "id": "7oR2c7UdlIqA",
        "colab": {
          "base_uri": "https://localhost:8080/"
        },
        "outputId": "a5224c28-0230-4bef-9208-def3b0d41d91"
      },
      "source": [
        "print(union_dfa.final_states)"
      ],
      "execution_count": 53,
      "outputs": [
        {
          "output_type": "stream",
          "name": "stdout",
          "text": [
            "{'{q1,q33}', '{{q1,q22},{{q0,q2},q22}}'}\n"
          ]
        }
      ]
    },
    {
      "cell_type": "code",
      "metadata": {
        "id": "xY8zMjCLfN9k"
      },
      "source": [
        "dfa_union_final = {\n",
        "    'alphabet': union_dfa.input_symbols,\n",
        "    'states': union_dfa.states,\n",
        "    'initial_state': union_dfa.initial_state,\n",
        "    'accepting_states': union_dfa.final_states,\n",
        "    'transitions': {\n",
        "        ('{q1,q33}', '0'): '{{q0,q2},q33}',\n",
        "        ('{q1,q33}', '1'): '{{q0,q2},q33}',\n",
        "        ('{{q0,q2},q11}', '0'): '{{q0,q2},q33}',\n",
        "        ('{{q0,q2},q11}', '1'): '{{q1,q22},{{q0,q2},q22}}',\n",
        "        ('{{q1,q22},{{q0,q2},q22}}', '0'): '{{q1,q22},{{q0,q2},q22}}',\n",
        "        ('{{q1,q22},{{q0,q2},q22}}', '1'): '{{q1,q22},{{q0,q2},q22}}',\n",
        "        ('{{q0,q2},q33}', '0'): '{{q0,q2},q33}',\n",
        "        ('{{q0,q2},q33}', '1'): '{q1,q33}',\n",
        "        ('{{q0,q2},q00}', '0'): '{{q0,q2},q11}',\n",
        "        ('{{q0,q2},q00}', '1'): '{q1,q33}'\n",
        "    }\n",
        "}"
      ],
      "execution_count": 60,
      "outputs": []
    },
    {
      "cell_type": "code",
      "metadata": {
        "id": "DnN9f7usgil6"
      },
      "source": [
        "automata_IO.dfa_to_dot(dfa_union_final, 'dfa_union')"
      ],
      "execution_count": 61,
      "outputs": []
    }
  ]
}